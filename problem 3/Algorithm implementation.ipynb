{
 "cells": [
  {
   "cell_type": "code",
   "execution_count": 15,
   "metadata": {},
   "outputs": [],
   "source": [
    "import pyspark\n",
    "sc.stop()\n",
    "from pyspark import SparkConf,SparkContext\n",
    "from pyspark.sql.functions import regexp_extract\n",
    "from pyspark.sql.types import *\n",
    "from pyspark.sql import SQLContext\n",
    "\n",
    "from pyspark.sql.functions import monotonically_increasing_id,row_number \n",
    "\n",
    "from pyspark.sql.functions import isnan, count, when, col, desc, udf, col,rand\n",
    "from pyspark.sql.functions import sort_array, asc, avg\n",
    "from pyspark.sql.functions import min as Fmin\n",
    "from pyspark.sql.functions import max as Fmax\n",
    "from pyspark.sql.functions import stddev as Fstddev\n",
    "from pyspark.ml.feature import OneHotEncoderEstimator, StringIndexer, VectorAssembler\n",
    "\n",
    "\n",
    "from pyspark.sql.functions import udf\n",
    "from pyspark.sql.types import IntegerType\n",
    "\n",
    "from pyspark.sql import Window\n",
    "\n",
    "from pyspark.sql.functions import sum as Fsum\n",
    "from pyspark.sql.functions import rank \n",
    "import pyspark.sql.functions as F\n",
    "from pyspark.sql import DataFrameStatFunctions as statFunc\n",
    "from pyspark.sql.functions import first\n",
    "from pyspark.sql.functions import lit\n",
    "\n",
    "from pyspark.sql.functions import col, countDistinct\n",
    "\n",
    "\n",
    "import pandas as pd\n",
    "import sklearn.metrics as metrics\n",
    "import numpy as np\n",
    "from sklearn.neighbors import NearestNeighbors\n",
    "from scipy.spatial.distance import correlation\n",
    "from sklearn.metrics.pairwise import pairwise_distances\n",
    "import ipywidgets as widgets\n",
    "from IPython.display import display, clear_output\n",
    "from contextlib import contextmanager\n",
    "import warnings\n",
    "warnings.filterwarnings('ignore')\n",
    "import os, sys\n",
    "from pyspark.ml.evaluation import RegressionEvaluator\n",
    "from pyspark.ml.recommendation import ALS\n",
    "from pyspark.sql import Row"
   ]
  },
  {
   "cell_type": "markdown",
   "metadata": {},
   "source": [
    "### Loading the dataset from s3 bucket "
   ]
  },
  {
   "cell_type": "code",
   "execution_count": 16,
   "metadata": {},
   "outputs": [],
   "source": [
    "sc = SparkContext.getOrCreate()\n",
    "sqlContext = SQLContext(sc)\n",
    "df_schema = StructType([StructField('movieId', IntegerType()),StructField('userId', IntegerType()),\n",
    "   StructField('rating', DoubleType())])\n",
    "\n",
    "movies_schema = StructType([StructField('movieId', IntegerType()),StructField('YearOfRelease', IntegerType()),\n",
    "   StructField('Title', StringType())])"
   ]
  },
  {
   "cell_type": "code",
   "execution_count": 17,
   "metadata": {},
   "outputs": [
    {
     "name": "stdout",
     "output_type": "stream",
     "text": [
      "+-------+-------+------+\n",
      "|movieId|userId |rating|\n",
      "+-------+-------+------+\n",
      "|8      |2149668|3.0   |\n",
      "|8      |1089184|3.0   |\n",
      "+-------+-------+------+\n",
      "only showing top 2 rows\n",
      "\n"
     ]
    }
   ],
   "source": [
    "test_df = sqlContext.read.format('csv').options(header=True, inferSchema=False).schema(df_schema).load('s3a://netfinal/TestingRatings.txt')\n",
    "test_df.show(2, truncate=False)"
   ]
  },
  {
   "cell_type": "code",
   "execution_count": 18,
   "metadata": {},
   "outputs": [
    {
     "data": {
      "text/plain": [
       "3255351"
      ]
     },
     "execution_count": 18,
     "metadata": {},
     "output_type": "execute_result"
    }
   ],
   "source": [
    "train_df = sqlContext.read.format('csv').options(header=True, inferSchema=False).schema(df_schema).load(\"s3a://netfinal/TrainingRatings.txt\")\n",
    "train_df.count()"
   ]
  },
  {
   "cell_type": "code",
   "execution_count": 19,
   "metadata": {},
   "outputs": [
    {
     "name": "stdout",
     "output_type": "stream",
     "text": [
      "+-------+-------------+----------------------------+\n",
      "|movieId|YearOfRelease|Title                       |\n",
      "+-------+-------------+----------------------------+\n",
      "|2      |2004         |Isle of Man TT 2004 Review  |\n",
      "|3      |1997         |Character                   |\n",
      "|4      |1994         |Paula Abdul's Get Up & Dance|\n",
      "|5      |2004         |The Rise and Fall of ECW    |\n",
      "|6      |1997         |Sick                        |\n",
      "+-------+-------------+----------------------------+\n",
      "only showing top 5 rows\n",
      "\n"
     ]
    }
   ],
   "source": [
    "movies_df = sqlContext.read.format('csv').options(header=True, inferSchema=False).schema(movies_schema).load(\"s3a://netfinal/movie_titles.txt\")\n",
    "movies_df.show(5,truncate = False)"
   ]
  },
  {
   "cell_type": "markdown",
   "metadata": {},
   "source": [
    "### Joining the train and test dataframes with the movies dataframe"
   ]
  },
  {
   "cell_type": "code",
   "execution_count": 20,
   "metadata": {},
   "outputs": [],
   "source": [
    "train_df = train_df.join(movies_df,on=['movieId'],how='inner')\n",
    "test_df = test_df.join(movies_df,on=['movieId'],how='inner')"
   ]
  },
  {
   "cell_type": "markdown",
   "metadata": {},
   "source": [
    "### ALS implementation "
   ]
  },
  {
   "cell_type": "code",
   "execution_count": 24,
   "metadata": {},
   "outputs": [
    {
     "name": "stdout",
     "output_type": "stream",
     "text": [
      "Mean squared error = 0.7011394936850339\n",
      "Root-mean-square error = 0.8373407273535869\n"
     ]
    }
   ],
   "source": [
    "als = ALS(maxIter=20, regParam=0.08, userCol=\"userId\", itemCol=\"movieId\", ratingCol=\"rating\",\n",
    "          coldStartStrategy=\"drop\")\n",
    "model = als.fit(train_df)\n",
    "\n",
    "# Evaluate the model by computing the MSE and RMSE on the test data\n",
    "predictions = model.transform(test_df)\n",
    "evaluator = RegressionEvaluator(metricName=\"mse\", labelCol=\"rating\",\n",
    "                                predictionCol=\"prediction\")\n",
    "                                            \n",
    "evaluator1 = RegressionEvaluator(metricName=\"rmse\", labelCol=\"rating\",\n",
    "                                predictionCol=\"prediction\")\n",
    "\n",
    "\n",
    "rmse = evaluator1.evaluate(predictions)\n",
    "mse = evaluator.evaluate(predictions)\n",
    "\n",
    "print(\"Mean squared error = \" + str(mse))\n",
    "print(\"Root-mean-square error = \" + str(rmse))"
   ]
  },
  {
   "cell_type": "markdown",
   "metadata": {},
   "source": [
    "### Checking the accuracy of our predictions"
   ]
  },
  {
   "cell_type": "code",
   "execution_count": 8,
   "metadata": {},
   "outputs": [
    {
     "name": "stdout",
     "output_type": "stream",
     "text": [
      "+-------+------+------+-------------+--------------------+----------+\n",
      "|movieId|userId|rating|YearOfRelease|               Title|prediction|\n",
      "+-------+------+------+-------------+--------------------+----------+\n",
      "|   9528|     7|   5.0|         1957|        12 Angry Men|  4.527373|\n",
      "|  15496|     7|   5.0|         1969|          Easy Rider|   3.88665|\n",
      "|   8163|    79|   3.0|         2004|        Two Brothers| 3.4458613|\n",
      "|  12497|    79|   4.0|         2000|         Bring It On|  3.410501|\n",
      "|   2913|    79|   4.0|         2004|   Finding Neverland| 3.9096336|\n",
      "|  14648|    79|   5.0|         2003|Finding Nemo (Ful...|  4.424679|\n",
      "|   3541|   199|   3.0|         1981|History of the Wo...| 3.9816039|\n",
      "|   8851|   199|   4.0|         1998|            Rounders|  4.093237|\n",
      "|   2518|   199|   4.0|         1995|Things to Do in D...| 3.8148317|\n",
      "|   3165|   199|   5.0|         1988|Dirty Rotten Scou...|  3.739738|\n",
      "+-------+------+------+-------------+--------------------+----------+\n",
      "only showing top 10 rows\n",
      "\n"
     ]
    }
   ],
   "source": [
    "predictions.sort('userId','rating').show(10)"
   ]
  },
  {
   "cell_type": "markdown",
   "metadata": {},
   "source": [
    "### Adding self rated movie ratings to our dataset "
   ]
  },
  {
   "cell_type": "code",
   "execution_count": 21,
   "metadata": {},
   "outputs": [
    {
     "name": "stdout",
     "output_type": "stream",
     "text": [
      "+-------+------+------+\n",
      "|movieId|userId|rating|\n",
      "+-------+------+------+\n",
      "|28     |0     |3.0   |\n",
      "|43     |0     |4.0   |\n",
      "+-------+------+------+\n",
      "only showing top 2 rows\n",
      "\n"
     ]
    }
   ],
   "source": [
    "user_df = sqlContext.read.format('csv').options(header=True, inferSchema=False).schema(df_schema).load('s3://netfinal/self-user.txt')\n",
    "user_df.show(2, truncate=False)"
   ]
  },
  {
   "cell_type": "code",
   "execution_count": 22,
   "metadata": {},
   "outputs": [],
   "source": [
    "user_df = user_df.join(movies_df,on=['movieId'],how='inner')"
   ]
  },
  {
   "cell_type": "code",
   "execution_count": 23,
   "metadata": {},
   "outputs": [],
   "source": [
    "train_df = train_df.union(user_df)\n",
    "test_df = test_df.union(user_df)"
   ]
  },
  {
   "cell_type": "code",
   "execution_count": 25,
   "metadata": {},
   "outputs": [
    {
     "name": "stdout",
     "output_type": "stream",
     "text": [
      "+-------+------+------+-------------+--------------------+\n",
      "|movieId|userId|rating|YearOfRelease|               Title|\n",
      "+-------+------+------+-------------+--------------------+\n",
      "|     28|     0|   3.0|         2002|     Lilo and Stitch|\n",
      "|     43|     0|   4.0|         2000|      Silent Service|\n",
      "|     48|     0|   4.0|         2001|      Justice League|\n",
      "|     61|     0|   2.0|         1999|Ricky Martin: One...|\n",
      "|     64|     0|   4.0|         2001|     Outside the Law|\n",
      "|     66|     0|   4.0|         1989|   Barbarian Queen 2|\n",
      "|     92|     0|   3.0|         2002|  ECW: Cyberslam '99|\n",
      "|     96|     0|   4.0|         2000|Inside the Space ...|\n",
      "|    111|     0|   4.0|         2003| Duplex (Widescreen)|\n",
      "+-------+------+------+-------------+--------------------+\n",
      "\n"
     ]
    }
   ],
   "source": [
    "UserID = 0\n",
    "self = train_df.filter(train_df.userId == UserID)\n",
    "self.show(10)"
   ]
  },
  {
   "cell_type": "markdown",
   "metadata": {},
   "source": [
    "### Checking recommendations based on our ratings"
   ]
  },
  {
   "cell_type": "code",
   "execution_count": 26,
   "metadata": {},
   "outputs": [
    {
     "name": "stdout",
     "output_type": "stream",
     "text": [
      "+------+----------------------------------------------------------------------------------------------------------------------------------------------------------------------------------------------+\n",
      "|userId|recommendations                                                                                                                                                                               |\n",
      "+------+----------------------------------------------------------------------------------------------------------------------------------------------------------------------------------------------+\n",
      "|0     |[[3033, 4.814257], [5225, 4.6135697], [5484, 4.5843763], [7858, 4.5789685], [16559, 4.5649867], [14941, 4.5440726], [5785, 4.4674215], [7625, 4.4513564], [6991, 4.4305925], [192, 4.4123034]]|\n",
      "+------+----------------------------------------------------------------------------------------------------------------------------------------------------------------------------------------------+\n",
      "\n"
     ]
    }
   ],
   "source": [
    "recom_user_self = model.recommendForUserSubset(self, 10)\n",
    "recom_user_self.show(truncate=False)"
   ]
  },
  {
   "cell_type": "code",
   "execution_count": 30,
   "metadata": {},
   "outputs": [
    {
     "data": {
      "text/html": [
       "<div>\n",
       "<style scoped>\n",
       "    .dataframe tbody tr th:only-of-type {\n",
       "        vertical-align: middle;\n",
       "    }\n",
       "\n",
       "    .dataframe tbody tr th {\n",
       "        vertical-align: top;\n",
       "    }\n",
       "\n",
       "    .dataframe thead th {\n",
       "        text-align: right;\n",
       "    }\n",
       "</style>\n",
       "<table border=\"1\" class=\"dataframe\">\n",
       "  <thead>\n",
       "    <tr style=\"text-align: right;\">\n",
       "      <th></th>\n",
       "      <th>movieId</th>\n",
       "      <th>YearOfRelease</th>\n",
       "      <th>Title</th>\n",
       "    </tr>\n",
       "  </thead>\n",
       "  <tbody>\n",
       "    <tr>\n",
       "      <th>0</th>\n",
       "      <td>192.0</td>\n",
       "      <td>2003.0</td>\n",
       "      <td>The SoulTaker</td>\n",
       "    </tr>\n",
       "    <tr>\n",
       "      <th>1</th>\n",
       "      <td>3033.0</td>\n",
       "      <td>2005.0</td>\n",
       "      <td>Ghost in the Shell: Stand Alone Complex: 2nd Gig</td>\n",
       "    </tr>\n",
       "    <tr>\n",
       "      <th>2</th>\n",
       "      <td>5225.0</td>\n",
       "      <td>1997.0</td>\n",
       "      <td>The Nazis: A Warning from History</td>\n",
       "    </tr>\n",
       "    <tr>\n",
       "      <th>3</th>\n",
       "      <td>5484.0</td>\n",
       "      <td>2000.0</td>\n",
       "      <td>Har dil jo Pyar karega...</td>\n",
       "    </tr>\n",
       "    <tr>\n",
       "      <th>4</th>\n",
       "      <td>5785.0</td>\n",
       "      <td>2000.0</td>\n",
       "      <td>The Cars: Live</td>\n",
       "    </tr>\n",
       "    <tr>\n",
       "      <th>5</th>\n",
       "      <td>6991.0</td>\n",
       "      <td>2001.0</td>\n",
       "      <td>A History of God</td>\n",
       "    </tr>\n",
       "    <tr>\n",
       "      <th>6</th>\n",
       "      <td>7625.0</td>\n",
       "      <td>1977.0</td>\n",
       "      <td>Young Lady Chatterley</td>\n",
       "    </tr>\n",
       "    <tr>\n",
       "      <th>7</th>\n",
       "      <td>7858.0</td>\n",
       "      <td>2004.0</td>\n",
       "      <td>Burst Angel</td>\n",
       "    </tr>\n",
       "    <tr>\n",
       "      <th>8</th>\n",
       "      <td>14941.0</td>\n",
       "      <td>2000.0</td>\n",
       "      <td>Vandread</td>\n",
       "    </tr>\n",
       "    <tr>\n",
       "      <th>9</th>\n",
       "      <td>16559.0</td>\n",
       "      <td>1991.0</td>\n",
       "      <td>Red Green: Stuffed and Mounted 1</td>\n",
       "    </tr>\n",
       "  </tbody>\n",
       "</table>\n",
       "</div>"
      ],
      "text/plain": [
       "   movieId  YearOfRelease                                             Title\n",
       "0    192.0         2003.0                                     The SoulTaker\n",
       "1   3033.0         2005.0  Ghost in the Shell: Stand Alone Complex: 2nd Gig\n",
       "2   5225.0         1997.0                 The Nazis: A Warning from History\n",
       "3   5484.0         2000.0                         Har dil jo Pyar karega...\n",
       "4   5785.0         2000.0                                    The Cars: Live\n",
       "5   6991.0         2001.0                                  A History of God\n",
       "6   7625.0         1977.0                             Young Lady Chatterley\n",
       "7   7858.0         2004.0                                       Burst Angel\n",
       "8  14941.0         2000.0                                          Vandread\n",
       "9  16559.0         1991.0                  Red Green: Stuffed and Mounted 1"
      ]
     },
     "execution_count": 30,
     "metadata": {},
     "output_type": "execute_result"
    }
   ],
   "source": [
    "# Movie recommendations given by model\n",
    "list1 = [3033,5225,5484,7858,16559,14941,5785,7625,6991,192]\n",
    "df = movies_df[movies_df.movieId.isin(list1)]\n",
    "df.reset_index(inplace=True,drop=True)\n",
    "df.head(10)"
   ]
  }
 ],
 "metadata": {
  "kernelspec": {
   "display_name": "Python 3",
   "language": "python",
   "name": "python3"
  },
  "language_info": {
   "codemirror_mode": {
    "name": "ipython",
    "version": 3
   },
   "file_extension": ".py",
   "mimetype": "text/x-python",
   "name": "python",
   "nbconvert_exporter": "python",
   "pygments_lexer": "ipython3",
   "version": "3.7.4"
  }
 },
 "nbformat": 4,
 "nbformat_minor": 4
}
