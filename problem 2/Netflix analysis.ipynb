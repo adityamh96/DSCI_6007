{
 "cells": [
  {
   "cell_type": "markdown",
   "metadata": {},
   "source": [
    "### Importing libraries and dataset "
   ]
  },
  {
   "cell_type": "code",
   "execution_count": 1,
   "metadata": {},
   "outputs": [],
   "source": [
    "import pyspark\n",
    "sc.stop()\n",
    "from pyspark import SparkConf,SparkContext\n",
    "from pyspark.sql.functions import regexp_extract\n",
    "from pyspark.sql.types import *\n",
    "from pyspark.sql import SQLContext\n",
    "\n",
    "import pandas as pd\n",
    "import sklearn.metrics as metrics\n",
    "import numpy as np\n",
    "from sklearn.neighbors import NearestNeighbors\n",
    "from scipy.spatial.distance import correlation\n",
    "from sklearn.metrics.pairwise import pairwise_distances\n",
    "import ipywidgets as widgets\n",
    "from IPython.display import display, clear_output\n",
    "from contextlib import contextmanager\n",
    "import warnings\n",
    "warnings.filterwarnings('ignore')\n",
    "import os, sys\n",
    "import re\n",
    "\n",
    "from pyspark.ml.evaluation import RegressionEvaluator\n",
    "from pyspark.ml.recommendation import ALS\n",
    "from pyspark.sql import Row\n",
    "\n",
    "from pyspark.sql.functions import isnan, count, when, col, desc, udf, col,rand\n",
    "from pyspark.sql.functions import sort_array, asc, avg\n",
    "from pyspark.sql.functions import min as Fmin\n",
    "from pyspark.sql.functions import max as Fmax\n",
    "from pyspark.sql.functions import stddev as Fstddev\n",
    "from pyspark.ml.feature import OneHotEncoderEstimator, StringIndexer, VectorAssembler\n",
    "\n",
    "\n",
    "from pyspark.sql.functions import udf\n",
    "from pyspark.sql.types import IntegerType\n",
    "\n",
    "from pyspark.sql import Window\n",
    "\n",
    "from pyspark.sql.functions import sum as Fsum\n",
    "from pyspark.sql.functions import rank \n",
    "import pyspark.sql.functions as F\n",
    "from pyspark.sql import DataFrameStatFunctions as statFunc\n",
    "from pyspark.sql.functions import first\n",
    "from pyspark.sql.functions import lit\n",
    "\n",
    "from pyspark.sql.functions import col, countDistinct"
   ]
  },
  {
   "cell_type": "code",
   "execution_count": 2,
   "metadata": {},
   "outputs": [],
   "source": [
    "sc = SparkContext.getOrCreate()\n",
    "sqlContext = SQLContext(sc)\n",
    "\n",
    "df_schema = StructType([StructField('movieId', IntegerType()),StructField('userId', IntegerType()),\n",
    "   StructField('rating', DoubleType())])\n",
    "\n",
    "df_movie_schema = StructType([StructField('movieId',IntegerType()),StructField('year_of_release',IntegerType())\n",
    "                        ,StructField('Title',StringType())])"
   ]
  },
  {
   "cell_type": "code",
   "execution_count": 3,
   "metadata": {},
   "outputs": [
    {
     "name": "stdout",
     "output_type": "stream",
     "text": [
      "+-------+-------+------+\n",
      "|movieId| userId|rating|\n",
      "+-------+-------+------+\n",
      "|      8|1395430|   2.0|\n",
      "|      8|1205593|   4.0|\n",
      "|      8|1488844|   4.0|\n",
      "|      8|1447354|   1.0|\n",
      "|      8| 306466|   4.0|\n",
      "+-------+-------+------+\n",
      "only showing top 5 rows\n",
      "\n"
     ]
    }
   ],
   "source": [
    "train_df = sqlContext.read.format('csv').options(header=True, inferSchema=False).schema(df_schema).load('s3a://netfinal/TrainingRatings.txt')\n",
    "train_df.show(5)"
   ]
  },
  {
   "cell_type": "code",
   "execution_count": 4,
   "metadata": {},
   "outputs": [
    {
     "name": "stdout",
     "output_type": "stream",
     "text": [
      "+-------+-------+------+\n",
      "|movieId| userId|rating|\n",
      "+-------+-------+------+\n",
      "|      8|2149668|   3.0|\n",
      "|      8|1089184|   3.0|\n",
      "|      8|2465894|   3.0|\n",
      "|      8| 534508|   1.0|\n",
      "|      8| 992921|   4.0|\n",
      "+-------+-------+------+\n",
      "only showing top 5 rows\n",
      "\n"
     ]
    }
   ],
   "source": [
    "test_df = sqlContext.read.format('csv').options(header=True, inferSchema=False).schema(df_schema).load('s3a://netfinal/TestingRatings.txt')\n",
    "test_df.show(5)"
   ]
  },
  {
   "cell_type": "code",
   "execution_count": 5,
   "metadata": {},
   "outputs": [
    {
     "name": "stdout",
     "output_type": "stream",
     "text": [
      "+-------+---------------+----------------------------+\n",
      "|movieId|year_of_release|Title                       |\n",
      "+-------+---------------+----------------------------+\n",
      "|2      |2004           |Isle of Man TT 2004 Review  |\n",
      "|3      |1997           |Character                   |\n",
      "|4      |1994           |Paula Abdul's Get Up & Dance|\n",
      "|5      |2004           |The Rise and Fall of ECW    |\n",
      "|6      |1997           |Sick                        |\n",
      "+-------+---------------+----------------------------+\n",
      "only showing top 5 rows\n",
      "\n"
     ]
    }
   ],
   "source": [
    "movies_df = sqlContext.read.format('csv').options(header=True, inferSchema=False).schema(df_movie_schema).load('s3://netfinal/movie_titles.txt')\n",
    "movies_df.show(5,truncate=False)"
   ]
  },
  {
   "cell_type": "code",
   "execution_count": 6,
   "metadata": {},
   "outputs": [],
   "source": [
    "train_df = train_df.join(movies_df,on=['movieId'],how='inner')\n",
    "test_df = test_df.join(movies_df,on=['movieId'],how='inner')"
   ]
  },
  {
   "cell_type": "markdown",
   "metadata": {},
   "source": [
    "### Analysis "
   ]
  },
  {
   "cell_type": "code",
   "execution_count": 7,
   "metadata": {},
   "outputs": [
    {
     "name": "stdout",
     "output_type": "stream",
     "text": [
      "+--------------+\n",
      "|Distinct_users|\n",
      "+--------------+\n",
      "|         27555|\n",
      "+--------------+\n",
      "\n"
     ]
    }
   ],
   "source": [
    "#Distinct users in the test set\n",
    "distinct_users = test_df.agg(countDistinct(col(\"userId\")).alias(\"Distinct_users\"))\n",
    "distinct_users.show()"
   ]
  },
  {
   "cell_type": "code",
   "execution_count": 8,
   "metadata": {},
   "outputs": [
    {
     "name": "stdout",
     "output_type": "stream",
     "text": [
      "+---------------+\n",
      "|Distinct_movies|\n",
      "+---------------+\n",
      "|           1701|\n",
      "+---------------+\n",
      "\n"
     ]
    }
   ],
   "source": [
    "#Distinct movies in test set\n",
    "distinct_movies = test_df.agg(countDistinct(col(\"movieId\")).alias(\"Distinct_movies\"))\n",
    "distinct_movies.show()"
   ]
  },
  {
   "cell_type": "code",
   "execution_count": 9,
   "metadata": {},
   "outputs": [
    {
     "name": "stdout",
     "output_type": "stream",
     "text": [
      "+-------+-----+\n",
      "| userId|count|\n",
      "+-------+-----+\n",
      "|1001129|  640|\n",
      "+-------+-----+\n",
      "only showing top 1 row\n",
      "\n"
     ]
    }
   ],
   "source": [
    "# Most number of ratings given by a user\n",
    "user_rated= train_df.groupBy('userId').count().show(1)"
   ]
  },
  {
   "cell_type": "code",
   "execution_count": 10,
   "metadata": {},
   "outputs": [],
   "source": [
    "train_set = train_df.toPandas()\n",
    "test_set = test_df.toPandas()"
   ]
  },
  {
   "cell_type": "code",
   "execution_count": 11,
   "metadata": {},
   "outputs": [
    {
     "data": {
      "text/plain": [
       "Title\n",
       "Ghost in the Shell: Stand Alone Complex: 2nd Gig    4.500000\n",
       "The Sopranos: Season 1                              4.422819\n",
       "The Best of Friends: Vol. 3                         4.418619\n",
       "The Best of Friends: Vol. 4                         4.414831\n",
       "The Sopranos: Season 3                              4.410690\n",
       "The Godfather                                       4.407814\n",
       "Dead Like Me: Season 2                              4.383886\n",
       "Inu-Yasha                                           4.372822\n",
       "Finding Nemo (Full-screen)                          4.352884\n",
       "The Incredibles                                     4.339148\n",
       "Name: rating, dtype: float64"
      ]
     },
     "execution_count": 11,
     "metadata": {},
     "output_type": "execute_result"
    }
   ],
   "source": [
    "# Top 10 movies by their average rating\n",
    "sort1= train_set.groupby('Title')['rating'].mean().sort_values(ascending=False)\n",
    "sort1.head(10)"
   ]
  },
  {
   "cell_type": "code",
   "execution_count": 12,
   "metadata": {},
   "outputs": [
    {
     "data": {
      "text/plain": [
       "Title\n",
       "The Godfather                    167422.0\n",
       "Ferris Bueller's Day Off         103701.0\n",
       "Rain Man                          95216.0\n",
       "Seven                             94398.0\n",
       "The Incredibles                   92029.0\n",
       "Pretty Woman                      90891.0\n",
       "As Good as It Gets                88670.0\n",
       "The Italian Job                   82862.0\n",
       "Terminator 2: Extreme Edition     81889.0\n",
       "Good Morning                      80580.0\n",
       "Name: rating, dtype: float64"
      ]
     },
     "execution_count": 12,
     "metadata": {},
     "output_type": "execute_result"
    }
   ],
   "source": [
    "# Top 10 movies with highest number of ratings \n",
    "most_rated= train_set.groupby('Title')['rating'].sum().sort_values(ascending=False)\n",
    "most_rated.head(10)"
   ]
  },
  {
   "cell_type": "markdown",
   "metadata": {},
   "source": [
    "### Creating sample set from dataset"
   ]
  },
  {
   "cell_type": "code",
   "execution_count": 13,
   "metadata": {},
   "outputs": [],
   "source": [
    "sample_set = pd.DataFrame(data = train_set)\n",
    "sample_set = sample_set.drop_duplicates()"
   ]
  },
  {
   "cell_type": "markdown",
   "metadata": {},
   "source": [
    "### User based and item based collaborative filtering "
   ]
  },
  {
   "cell_type": "code",
   "execution_count": 14,
   "metadata": {},
   "outputs": [
    {
     "data": {
      "text/html": [
       "<div>\n",
       "<style scoped>\n",
       "    .dataframe tbody tr th:only-of-type {\n",
       "        vertical-align: middle;\n",
       "    }\n",
       "\n",
       "    .dataframe tbody tr th {\n",
       "        vertical-align: top;\n",
       "    }\n",
       "\n",
       "    .dataframe thead th {\n",
       "        text-align: right;\n",
       "    }\n",
       "</style>\n",
       "<table border=\"1\" class=\"dataframe\">\n",
       "  <thead>\n",
       "    <tr style=\"text-align: right;\">\n",
       "      <th>movieId</th>\n",
       "      <th>8</th>\n",
       "      <th>28</th>\n",
       "      <th>43</th>\n",
       "      <th>48</th>\n",
       "      <th>61</th>\n",
       "      <th>64</th>\n",
       "      <th>66</th>\n",
       "      <th>92</th>\n",
       "      <th>96</th>\n",
       "      <th>111</th>\n",
       "      <th>...</th>\n",
       "      <th>17654</th>\n",
       "      <th>17660</th>\n",
       "      <th>17689</th>\n",
       "      <th>17693</th>\n",
       "      <th>17706</th>\n",
       "      <th>17725</th>\n",
       "      <th>17728</th>\n",
       "      <th>17734</th>\n",
       "      <th>17741</th>\n",
       "      <th>17742</th>\n",
       "    </tr>\n",
       "    <tr>\n",
       "      <th>userId</th>\n",
       "      <th></th>\n",
       "      <th></th>\n",
       "      <th></th>\n",
       "      <th></th>\n",
       "      <th></th>\n",
       "      <th></th>\n",
       "      <th></th>\n",
       "      <th></th>\n",
       "      <th></th>\n",
       "      <th></th>\n",
       "      <th></th>\n",
       "      <th></th>\n",
       "      <th></th>\n",
       "      <th></th>\n",
       "      <th></th>\n",
       "      <th></th>\n",
       "      <th></th>\n",
       "      <th></th>\n",
       "      <th></th>\n",
       "      <th></th>\n",
       "      <th></th>\n",
       "    </tr>\n",
       "  </thead>\n",
       "  <tbody>\n",
       "    <tr>\n",
       "      <th>7</th>\n",
       "      <td>5</td>\n",
       "      <td>4</td>\n",
       "      <td>0</td>\n",
       "      <td>0</td>\n",
       "      <td>0</td>\n",
       "      <td>0</td>\n",
       "      <td>0</td>\n",
       "      <td>0</td>\n",
       "      <td>0</td>\n",
       "      <td>0</td>\n",
       "      <td>...</td>\n",
       "      <td>0</td>\n",
       "      <td>0</td>\n",
       "      <td>0</td>\n",
       "      <td>0</td>\n",
       "      <td>0</td>\n",
       "      <td>0</td>\n",
       "      <td>0</td>\n",
       "      <td>0</td>\n",
       "      <td>0</td>\n",
       "      <td>0</td>\n",
       "    </tr>\n",
       "    <tr>\n",
       "      <th>79</th>\n",
       "      <td>0</td>\n",
       "      <td>0</td>\n",
       "      <td>0</td>\n",
       "      <td>0</td>\n",
       "      <td>0</td>\n",
       "      <td>0</td>\n",
       "      <td>0</td>\n",
       "      <td>0</td>\n",
       "      <td>0</td>\n",
       "      <td>0</td>\n",
       "      <td>...</td>\n",
       "      <td>0</td>\n",
       "      <td>0</td>\n",
       "      <td>0</td>\n",
       "      <td>0</td>\n",
       "      <td>0</td>\n",
       "      <td>0</td>\n",
       "      <td>0</td>\n",
       "      <td>0</td>\n",
       "      <td>0</td>\n",
       "      <td>0</td>\n",
       "    </tr>\n",
       "    <tr>\n",
       "      <th>199</th>\n",
       "      <td>0</td>\n",
       "      <td>0</td>\n",
       "      <td>0</td>\n",
       "      <td>0</td>\n",
       "      <td>0</td>\n",
       "      <td>0</td>\n",
       "      <td>0</td>\n",
       "      <td>0</td>\n",
       "      <td>0</td>\n",
       "      <td>4</td>\n",
       "      <td>...</td>\n",
       "      <td>0</td>\n",
       "      <td>0</td>\n",
       "      <td>0</td>\n",
       "      <td>0</td>\n",
       "      <td>0</td>\n",
       "      <td>0</td>\n",
       "      <td>0</td>\n",
       "      <td>0</td>\n",
       "      <td>0</td>\n",
       "      <td>0</td>\n",
       "    </tr>\n",
       "    <tr>\n",
       "      <th>481</th>\n",
       "      <td>0</td>\n",
       "      <td>0</td>\n",
       "      <td>0</td>\n",
       "      <td>0</td>\n",
       "      <td>0</td>\n",
       "      <td>0</td>\n",
       "      <td>0</td>\n",
       "      <td>0</td>\n",
       "      <td>0</td>\n",
       "      <td>5</td>\n",
       "      <td>...</td>\n",
       "      <td>0</td>\n",
       "      <td>0</td>\n",
       "      <td>0</td>\n",
       "      <td>0</td>\n",
       "      <td>0</td>\n",
       "      <td>0</td>\n",
       "      <td>0</td>\n",
       "      <td>0</td>\n",
       "      <td>0</td>\n",
       "      <td>0</td>\n",
       "    </tr>\n",
       "    <tr>\n",
       "      <th>769</th>\n",
       "      <td>0</td>\n",
       "      <td>0</td>\n",
       "      <td>0</td>\n",
       "      <td>0</td>\n",
       "      <td>0</td>\n",
       "      <td>0</td>\n",
       "      <td>0</td>\n",
       "      <td>0</td>\n",
       "      <td>0</td>\n",
       "      <td>0</td>\n",
       "      <td>...</td>\n",
       "      <td>0</td>\n",
       "      <td>0</td>\n",
       "      <td>0</td>\n",
       "      <td>0</td>\n",
       "      <td>0</td>\n",
       "      <td>0</td>\n",
       "      <td>0</td>\n",
       "      <td>0</td>\n",
       "      <td>0</td>\n",
       "      <td>0</td>\n",
       "    </tr>\n",
       "  </tbody>\n",
       "</table>\n",
       "<p>5 rows × 1821 columns</p>\n",
       "</div>"
      ],
      "text/plain": [
       "movieId  8      28     43     48     61     64     66     92     96     111    \\\n",
       "userId                                                                          \n",
       "7            5      4      0      0      0      0      0      0      0      0   \n",
       "79           0      0      0      0      0      0      0      0      0      0   \n",
       "199          0      0      0      0      0      0      0      0      0      4   \n",
       "481          0      0      0      0      0      0      0      0      0      5   \n",
       "769          0      0      0      0      0      0      0      0      0      0   \n",
       "\n",
       "movieId  ...  17654  17660  17689  17693  17706  17725  17728  17734  17741  \\\n",
       "userId   ...                                                                  \n",
       "7        ...      0      0      0      0      0      0      0      0      0   \n",
       "79       ...      0      0      0      0      0      0      0      0      0   \n",
       "199      ...      0      0      0      0      0      0      0      0      0   \n",
       "481      ...      0      0      0      0      0      0      0      0      0   \n",
       "769      ...      0      0      0      0      0      0      0      0      0   \n",
       "\n",
       "movieId  17742  \n",
       "userId          \n",
       "7            0  \n",
       "79           0  \n",
       "199          0  \n",
       "481          0  \n",
       "769          0  \n",
       "\n",
       "[5 rows x 1821 columns]"
      ]
     },
     "execution_count": 14,
     "metadata": {},
     "output_type": "execute_result"
    }
   ],
   "source": [
    "ratings_new = sample_set.pivot_table(index='userId', columns='movieId', values='rating',fill_value=0)\n",
    "ratings_new.head()"
   ]
  },
  {
   "cell_type": "code",
   "execution_count": 15,
   "metadata": {},
   "outputs": [],
   "source": [
    "def user_similarities(user_id, rating_table, metric ='cosine', k=10):\n",
    "    similarity_score=[]\n",
    "    user_ids=[]\n",
    "    knn = NearestNeighbors(metric = metric, algorithm = 'brute') \n",
    "    knn.fit(rating_table)\n",
    "    loc = rating_table.index.get_loc(user_id)\n",
    "    distances, user_ids = knn.kneighbors(rating_table.iloc[loc, :].values.reshape(1, -1), n_neighbors = k+1)\n",
    "    similarity_score = 1 - distances.flatten()\n",
    "    similarity_score = pd.DataFrame(data = similarity_score)\n",
    "    user_ids = pd.DataFrame(data = user_ids).T\n",
    "    sim_users = pd.concat([similarity_score, user_ids.reindex(similarity_score.index)], axis=1)\n",
    "    sim_users.columns = ['similarity_score','user_ids']\n",
    "    \n",
    "    return sim_users"
   ]
  },
  {
   "cell_type": "code",
   "execution_count": 16,
   "metadata": {},
   "outputs": [
    {
     "data": {
      "text/html": [
       "<div>\n",
       "<style scoped>\n",
       "    .dataframe tbody tr th:only-of-type {\n",
       "        vertical-align: middle;\n",
       "    }\n",
       "\n",
       "    .dataframe tbody tr th {\n",
       "        vertical-align: top;\n",
       "    }\n",
       "\n",
       "    .dataframe thead th {\n",
       "        text-align: right;\n",
       "    }\n",
       "</style>\n",
       "<table border=\"1\" class=\"dataframe\">\n",
       "  <thead>\n",
       "    <tr style=\"text-align: right;\">\n",
       "      <th></th>\n",
       "      <th>similarity_score</th>\n",
       "      <th>user_ids</th>\n",
       "    </tr>\n",
       "  </thead>\n",
       "  <tbody>\n",
       "    <tr>\n",
       "      <th>0</th>\n",
       "      <td>1.000000</td>\n",
       "      <td>3</td>\n",
       "    </tr>\n",
       "    <tr>\n",
       "      <th>1</th>\n",
       "      <td>0.606244</td>\n",
       "      <td>6188</td>\n",
       "    </tr>\n",
       "    <tr>\n",
       "      <th>2</th>\n",
       "      <td>0.597981</td>\n",
       "      <td>15680</td>\n",
       "    </tr>\n",
       "    <tr>\n",
       "      <th>3</th>\n",
       "      <td>0.593259</td>\n",
       "      <td>12687</td>\n",
       "    </tr>\n",
       "    <tr>\n",
       "      <th>4</th>\n",
       "      <td>0.585067</td>\n",
       "      <td>22490</td>\n",
       "    </tr>\n",
       "    <tr>\n",
       "      <th>5</th>\n",
       "      <td>0.578425</td>\n",
       "      <td>9485</td>\n",
       "    </tr>\n",
       "    <tr>\n",
       "      <th>6</th>\n",
       "      <td>0.576827</td>\n",
       "      <td>27920</td>\n",
       "    </tr>\n",
       "    <tr>\n",
       "      <th>7</th>\n",
       "      <td>0.563754</td>\n",
       "      <td>927</td>\n",
       "    </tr>\n",
       "    <tr>\n",
       "      <th>8</th>\n",
       "      <td>0.562031</td>\n",
       "      <td>24795</td>\n",
       "    </tr>\n",
       "    <tr>\n",
       "      <th>9</th>\n",
       "      <td>0.560900</td>\n",
       "      <td>1161</td>\n",
       "    </tr>\n",
       "    <tr>\n",
       "      <th>10</th>\n",
       "      <td>0.559063</td>\n",
       "      <td>16652</td>\n",
       "    </tr>\n",
       "  </tbody>\n",
       "</table>\n",
       "</div>"
      ],
      "text/plain": [
       "    similarity_score  user_ids\n",
       "0           1.000000         3\n",
       "1           0.606244      6188\n",
       "2           0.597981     15680\n",
       "3           0.593259     12687\n",
       "4           0.585067     22490\n",
       "5           0.578425      9485\n",
       "6           0.576827     27920\n",
       "7           0.563754       927\n",
       "8           0.562031     24795\n",
       "9           0.560900      1161\n",
       "10          0.559063     16652"
      ]
     },
     "execution_count": 16,
     "metadata": {},
     "output_type": "execute_result"
    }
   ],
   "source": [
    "#Finding user similarities score for userId 481\n",
    "user_similarities(481,ratings_new)"
   ]
  },
  {
   "cell_type": "code",
   "execution_count": 17,
   "metadata": {},
   "outputs": [],
   "source": [
    "ratings_2 = sample_set.pivot_table(index='movieId', columns='userId', values='rating',fill_value=0)"
   ]
  },
  {
   "cell_type": "code",
   "execution_count": 18,
   "metadata": {},
   "outputs": [],
   "source": [
    "def movie_similarities(movie_id, rating_table, metric ='cosine', k=10):\n",
    "    similarity_score=[]\n",
    "    movie_ids=[]\n",
    "    knn = NearestNeighbors(metric = metric, algorithm = 'brute') \n",
    "    knn.fit(rating_table)\n",
    "    loc = rating_table.index.get_loc(movie_id)\n",
    "    distances, movie_ids = knn.kneighbors(rating_table.iloc[loc, :].values.reshape(1, -1), n_neighbors = k+1)\n",
    "    similarity_score = 1 - distances.flatten()\n",
    "    similarity_score = pd.DataFrame(data = similarity_score)\n",
    "    movie_ids = pd.DataFrame(data = movie_ids).T\n",
    "    movie_sim = pd.concat([similarity_score, movie_ids.reindex(similarity_score.index)], axis=1)\n",
    "    movie_sim.columns = ['similarity_score','movieId']\n",
    "    \n",
    "    return movie_sim    "
   ]
  },
  {
   "cell_type": "code",
   "execution_count": 19,
   "metadata": {},
   "outputs": [
    {
     "data": {
      "text/html": [
       "<div>\n",
       "<style scoped>\n",
       "    .dataframe tbody tr th:only-of-type {\n",
       "        vertical-align: middle;\n",
       "    }\n",
       "\n",
       "    .dataframe tbody tr th {\n",
       "        vertical-align: top;\n",
       "    }\n",
       "\n",
       "    .dataframe thead th {\n",
       "        text-align: right;\n",
       "    }\n",
       "</style>\n",
       "<table border=\"1\" class=\"dataframe\">\n",
       "  <thead>\n",
       "    <tr style=\"text-align: right;\">\n",
       "      <th></th>\n",
       "      <th>similarity_score</th>\n",
       "      <th>movieId</th>\n",
       "      <th>year_of_release</th>\n",
       "      <th>Title</th>\n",
       "    </tr>\n",
       "  </thead>\n",
       "  <tbody>\n",
       "    <tr>\n",
       "      <th>0</th>\n",
       "      <td>0.298464</td>\n",
       "      <td>1228</td>\n",
       "      <td>2004.0</td>\n",
       "      <td>The Carol Burnett Show: Let's Bump Up the Lights!</td>\n",
       "    </tr>\n",
       "    <tr>\n",
       "      <th>1</th>\n",
       "      <td>0.291148</td>\n",
       "      <td>232</td>\n",
       "      <td>1989.0</td>\n",
       "      <td>Gross Anatomy</td>\n",
       "    </tr>\n",
       "    <tr>\n",
       "      <th>2</th>\n",
       "      <td>0.278488</td>\n",
       "      <td>299</td>\n",
       "      <td>2001.0</td>\n",
       "      <td>Bridget Jones's Diary</td>\n",
       "    </tr>\n",
       "    <tr>\n",
       "      <th>3</th>\n",
       "      <td>0.271520</td>\n",
       "      <td>328</td>\n",
       "      <td>2002.0</td>\n",
       "      <td>Deftones: Live in Hawaii</td>\n",
       "    </tr>\n",
       "    <tr>\n",
       "      <th>4</th>\n",
       "      <td>0.263171</td>\n",
       "      <td>1071</td>\n",
       "      <td>1995.0</td>\n",
       "      <td>The Ice Princess</td>\n",
       "    </tr>\n",
       "    <tr>\n",
       "      <th>5</th>\n",
       "      <td>0.262434</td>\n",
       "      <td>705</td>\n",
       "      <td>1989.0</td>\n",
       "      <td>Major League</td>\n",
       "    </tr>\n",
       "    <tr>\n",
       "      <th>6</th>\n",
       "      <td>0.261318</td>\n",
       "      <td>975</td>\n",
       "      <td>1997.0</td>\n",
       "      <td>Convict 762</td>\n",
       "    </tr>\n",
       "    <tr>\n",
       "      <th>7</th>\n",
       "      <td>0.261260</td>\n",
       "      <td>478</td>\n",
       "      <td>1962.0</td>\n",
       "      <td>The Beverly Hillbillies</td>\n",
       "    </tr>\n",
       "    <tr>\n",
       "      <th>8</th>\n",
       "      <td>0.258058</td>\n",
       "      <td>1093</td>\n",
       "      <td>1980.0</td>\n",
       "      <td>The Leg Fighters</td>\n",
       "    </tr>\n",
       "    <tr>\n",
       "      <th>9</th>\n",
       "      <td>0.254881</td>\n",
       "      <td>875</td>\n",
       "      <td>1998.0</td>\n",
       "      <td>Zakhm</td>\n",
       "    </tr>\n",
       "  </tbody>\n",
       "</table>\n",
       "</div>"
      ],
      "text/plain": [
       "   similarity_score  movieId  year_of_release  \\\n",
       "0          0.298464     1228           2004.0   \n",
       "1          0.291148      232           1989.0   \n",
       "2          0.278488      299           2001.0   \n",
       "3          0.271520      328           2002.0   \n",
       "4          0.263171     1071           1995.0   \n",
       "5          0.262434      705           1989.0   \n",
       "6          0.261318      975           1997.0   \n",
       "7          0.261260      478           1962.0   \n",
       "8          0.258058     1093           1980.0   \n",
       "9          0.254881      875           1998.0   \n",
       "\n",
       "                                               Title  \n",
       "0  The Carol Burnett Show: Let's Bump Up the Lights!  \n",
       "1                                      Gross Anatomy  \n",
       "2                              Bridget Jones's Diary  \n",
       "3                           Deftones: Live in Hawaii  \n",
       "4                                   The Ice Princess  \n",
       "5                                       Major League  \n",
       "6                                        Convict 762  \n",
       "7                            The Beverly Hillbillies  \n",
       "8                                   The Leg Fighters  \n",
       "9                                              Zakhm  "
      ]
     },
     "execution_count": 19,
     "metadata": {},
     "output_type": "execute_result"
    }
   ],
   "source": [
    "movies_set = movies_df.toPandas()\n",
    "movie_sim1 = movie_similarities(8,ratings_2)\n",
    "similar_movies_set = pd.merge(movie_sim1,movies_set,on='movieId')\n",
    "similar_movies_set.head(10)"
   ]
  }
 ],
 "metadata": {
  "kernelspec": {
   "display_name": "Python 3",
   "language": "python",
   "name": "python3"
  },
  "language_info": {
   "codemirror_mode": {
    "name": "ipython",
    "version": 3
   },
   "file_extension": ".py",
   "mimetype": "text/x-python",
   "name": "python",
   "nbconvert_exporter": "python",
   "pygments_lexer": "ipython3",
   "version": "3.7.4"
  }
 },
 "nbformat": 4,
 "nbformat_minor": 4
}
